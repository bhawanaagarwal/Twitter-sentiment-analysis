{
 "cells": [
  {
   "cell_type": "markdown",
   "id": "4abbf6dd",
   "metadata": {},
   "source": [
    "# Import Libraries"
   ]
  },
  {
   "cell_type": "code",
   "execution_count": 1,
   "id": "9bcd2cb4",
   "metadata": {},
   "outputs": [],
   "source": [
    "import pandas as pd\n",
    "import numpy as np\n",
    "from sklearn.feature_extraction.text import CountVectorizer\n",
    "from sklearn.preprocessing import StandardScaler\n",
    "from sklearn.ensemble import RandomForestClassifier\n",
    "from sklearn.model_selection import train_test_split\n",
    "from ipynb.fs.full.Transform_tweet import *"
   ]
  },
  {
   "cell_type": "code",
   "execution_count": 2,
   "id": "42609b67",
   "metadata": {},
   "outputs": [],
   "source": [
    "class results():\n",
    "    \n",
    "    def __init__(self,tweet):\n",
    "        \n",
    "        #initialzing the data to be modelled\n",
    "        self.data = pd.read_pickle('Data/preprocessed_data')\n",
    "        \n",
    "        #assigning a tweet variable to a cleaned tweet to be classified\n",
    "        text = Transformc(tweet)\n",
    "        self.tweet = text.tweet_cleaning()\n",
    "    \n",
    "    def train_test_splits(self):\n",
    "        \n",
    "        #assigning variables for modelling\n",
    "        x = self.data['tweet']\n",
    "        \n",
    "        #assigning variables for modelling\n",
    "        y = self.data.iloc[:,1]\n",
    "        \n",
    "        #splitting the dataset into training and testing data sets\n",
    "        x_train, x_test, y_train, y_test = train_test_split(x, y, test_size = 0.25, random_state = 42)\n",
    "        \n",
    "        return x_train, x_test, y_train, y_test\n",
    "    \n",
    "    def vectorization_standardization(self): \n",
    "        \n",
    "        x_train, x_test, y_train, y_test = self.train_test_splits()\n",
    "        \n",
    "        #Bag of words vectorizer\n",
    "        vectorizer = CountVectorizer()\n",
    "        x_train = vectorizer.fit_transform(x_train)\n",
    "        x_test = vectorizer.transform([self.tweet])\n",
    "\n",
    "        #standardization\n",
    "        scaler = StandardScaler(with_mean=False,with_std=False)\n",
    "        x_train = scaler.fit_transform(x_train) \n",
    "        x_test = scaler.fit_transform(x_test)\n",
    "        \n",
    "        return x_train,y_train,x_test,y_test\n",
    "    \n",
    "    def Classification(self):\n",
    "        \n",
    "        #assigning values to be used in modelling\n",
    "        x_train,y_train,x_test,y_test = self.vectorization_standardization()\n",
    "\n",
    "        #classifier to be used\n",
    "        classifier = RandomForestClassifier()\n",
    "        classifier.fit(x_train,y_train)\n",
    "\n",
    "        #Predciting class for x_test with classsifier model\n",
    "        y_pred = classifier.predict(x_test)\n",
    "        \n",
    "        if y_pred == [1]:\n",
    "            print('Hate Tweet/Inappropriate Tweet')\n",
    "        \n",
    "        if y_pred == [0]:\n",
    "            print('Normal Tweet')"
   ]
  }
 ],
 "metadata": {
  "kernelspec": {
   "display_name": "Python 3 (ipykernel)",
   "language": "python",
   "name": "python3"
  },
  "language_info": {
   "codemirror_mode": {
    "name": "ipython",
    "version": 3
   },
   "file_extension": ".py",
   "mimetype": "text/x-python",
   "name": "python",
   "nbconvert_exporter": "python",
   "pygments_lexer": "ipython3",
   "version": "3.9.7"
  }
 },
 "nbformat": 4,
 "nbformat_minor": 5
}
