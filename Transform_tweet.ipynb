{
 "cells": [
  {
   "cell_type": "markdown",
   "id": "ad8dde8c",
   "metadata": {},
   "source": [
    "# Import libraries"
   ]
  },
  {
   "cell_type": "code",
   "execution_count": 2,
   "id": "755b7958",
   "metadata": {},
   "outputs": [],
   "source": [
    "import pandas as pd\n",
    "import numpy as np\n",
    "import preprocessor as p\n",
    "import emojis\n",
    "import re"
   ]
  },
  {
   "cell_type": "code",
   "execution_count": 3,
   "id": "2f9e6fd5",
   "metadata": {},
   "outputs": [],
   "source": [
    "slang = {'luv':'love','wud':'would','lyk':'like','wateva':'whatever','ttyl':'talk to you later', 'rip':'rest in peace','kul':'cool','fyn':'fine','omg':'oh my god',\n",
    "'fam':'family','bruh':'brother', 'bro':'brother','cud':'could','fud':'food','btw':'by the way',\"can't\":'cannot',\"cant\":\"cannot\",\"shouldn't\":\"should not\",\n",
    "\"shouldnt\":\"should not\",\"couldn't\":\"could not\",\"couldnt\":\"could not\"}\n",
    "\n",
    "SMILEYS = {\":‑(\":\"sad\", \":‑(\":\"sad\", \":(\":\"sad\",\":‑c\":\"sad\",\":c\":\"sad\",\":‑<\":\"sad\",\":<\":\"sad\",\":‑[\":\"sad\",\":[\":\"sad\",\":-||\":\"sad\",\">:[\":\"sad\",\":{\":\"sad\",\":@\":\"sad\",\":(\t\":\"sad\",\";( \":\"sad\",\":‑)\":\"happy\", \":‑D\" : \"laughing\", \"8D\":\"laughing\" , \"x‑D\": \"laughing\", \"xD\": \"laughing\",\"X‑D\": \"laughing\",\n",
    "\"XD\": \"laughing\",\"=D\": \"laughing\", \"=3\": \"laughing\", \"B^D\": \"laughing\" , \"c:\" : \"laughing\", \":-]\":\"happy\",\":]\": \"happy\",\":-3\": \"happy\", \":3\":\"happy\", \":->\": \"happy\",\":>\": \"happy\", \"8-)\": \"happy\",\"8)\": \"happy\",\":-}\": \"happy\",\":}\": \"happy\",\":o)\": \"happy\",\":c\": \"happy\" , \":^)\": \"happy\",\"=]\": \"happy\", \"=)\": \"happy\",\n",
    "\":‑###..\":\"being sick\",\":###..\":\"being sick\",\"',:-|\":\"disbelief\",\"',:-l\":\"disbelief\",\">:‑)\":\"Evil\",\"}:‑)\":\"Evil\",\"}:)\":\"Evil\",\"3:‑)\":\"Evil\",\"3:)\":\"Evil\",\">;)\":\"Evil\",\";3\":\"Evil\",\"D‑':\":\"horror\"}\n",
    "\n",
    "\n",
    "def convert_emojis(text):\n",
    "    text = emojis.decode(text)\n",
    "    text = text.replace(\":\",\" \")\n",
    "    text  = ' '.join(text.split())\n",
    "\n",
    "    return text\n",
    "\n",
    "def convert_emoticons(text):\n",
    "    words = text.split()\n",
    "    words = [SMILEYS[word] if word in SMILEYS else word for word in words]\n",
    "    text = \" \".join(words)\n",
    "    return text \n",
    "\n",
    "def correction(text):\n",
    "    words = text.split()\n",
    "    words = [slang[word] if word in slang else word for word in words]\n",
    "    text = \" \".join(words)\n",
    "    return text"
   ]
  },
  {
   "cell_type": "code",
   "execution_count": 12,
   "id": "44b689b2",
   "metadata": {},
   "outputs": [],
   "source": [
    "class Transformc():\n",
    "    \n",
    "    def __init__(self,tweet):\n",
    "        \n",
    "        #assigning twitter data a variable\n",
    "        self.tweet = tweet\n",
    "         \n",
    "    def tweet_cleaning(self):\n",
    "\n",
    "        #removing the urls and \n",
    "        p.set_options(p.OPT.URL)\n",
    "        tweet = p.clean(self.tweet)\n",
    "\n",
    "        #conversion of emojis\n",
    "        tweet = convert_emojis(tweet)\n",
    "\n",
    "        #conversion of emoticons\n",
    "        tweet = convert_emoticons(tweet)\n",
    "\n",
    "        #removing punctuations\n",
    "        tweet = ' '.join(re.sub(\"[#\\.\\,\\!\\?\\:\\;\\-\\=]\", \" \", tweet).split())\n",
    "\n",
    "        #correcting slangs and misspells\n",
    "        tweet = correction(tweet)\n",
    "\n",
    "        #removing the remaining emoticons and numbers data in text\n",
    "        p.set_options(p.OPT.MENTION,p.OPT.HASHTAG,p.OPT.RESERVED,p.OPT.EMOJI,p.OPT.SMILEY,p.OPT.NUMBER)\n",
    "        tweet = p.clean(tweet)\n",
    "\n",
    "        self.tweet = tweet\n",
    "\n",
    "        strng = \"\"\n",
    "        for words in self.tweet.split():\n",
    "\n",
    "            #removing special characters \n",
    "            word = (\"\".join(i for i in words if i.isalnum()))\n",
    "\n",
    "            #lowering the words\n",
    "            word = word.lower()\n",
    "\n",
    "            strng += word + \" \"\n",
    "\n",
    "        return strng"
   ]
  }
 ],
 "metadata": {
  "kernelspec": {
   "display_name": "Python 3 (ipykernel)",
   "language": "python",
   "name": "python3"
  },
  "language_info": {
   "codemirror_mode": {
    "name": "ipython",
    "version": 3
   },
   "file_extension": ".py",
   "mimetype": "text/x-python",
   "name": "python",
   "nbconvert_exporter": "python",
   "pygments_lexer": "ipython3",
   "version": "3.9.7"
  }
 },
 "nbformat": 4,
 "nbformat_minor": 5
}
