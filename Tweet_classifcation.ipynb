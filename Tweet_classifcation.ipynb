{
 "cells": [
  {
   "cell_type": "markdown",
   "id": "1c4051ef",
   "metadata": {},
   "source": [
    "# Project Motivation :\n",
    "\n",
    "Which tweets posted by twitter users are inappropriate / hateful?"
   ]
  },
  {
   "cell_type": "markdown",
   "id": "b1ee9866",
   "metadata": {},
   "source": [
    "# Import Libraries"
   ]
  },
  {
   "cell_type": "code",
   "execution_count": 1,
   "id": "747d16eb",
   "metadata": {},
   "outputs": [],
   "source": [
    "import pandas as pd\n",
    "import numpy as np\n",
    "from ipynb.fs.full.Results_modelling import *"
   ]
  },
  {
   "cell_type": "markdown",
   "id": "78aab7ad",
   "metadata": {},
   "source": [
    "# Examples of tweet classification"
   ]
  },
  {
   "cell_type": "code",
   "execution_count": 2,
   "id": "6a338172",
   "metadata": {},
   "outputs": [
    {
     "name": "stdout",
     "output_type": "stream",
     "text": [
      "Hate Tweet/Inappropriate Tweet\n"
     ]
    }
   ],
   "source": [
    "final = results(\"sikh temple and houses should be vandalised in in calgary #terrorists #killthemall\")\n",
    "final.Classification()\n",
    "# does work correctly for this case"
   ]
  },
  {
   "cell_type": "code",
   "execution_count": 3,
   "id": "217b262f",
   "metadata": {},
   "outputs": [
    {
     "name": "stdout",
     "output_type": "stream",
     "text": [
      "Normal Tweet\n"
     ]
    }
   ],
   "source": [
    "final = results(\"Well played English footaball team #itscominghome\")\n",
    "final.Classification()\n",
    "# does work correctly for this case"
   ]
  },
  {
   "cell_type": "code",
   "execution_count": 4,
   "id": "ab3f11fe",
   "metadata": {},
   "outputs": [
    {
     "name": "stdout",
     "output_type": "stream",
     "text": [
      "Hate Tweet/Inappropriate Tweet\n"
     ]
    }
   ],
   "source": [
    "final = results(\"Hiv infection from oral sex white girl had sex with black guy #porn #nasty\")\n",
    "final.Classification()"
   ]
  },
  {
   "cell_type": "code",
   "execution_count": 5,
   "id": "097612eb",
   "metadata": {},
   "outputs": [
    {
     "name": "stdout",
     "output_type": "stream",
     "text": [
      "Normal Tweet\n"
     ]
    }
   ],
   "source": [
    "final = results(\"Women are inferior to men #feminismmukthbharat\")\n",
    "final.Classification()\n",
    "# does not work correctly for this case"
   ]
  },
  {
   "cell_type": "markdown",
   "id": "6eb7a5b8",
   "metadata": {},
   "source": [
    "# Results and Improvements:\n",
    "\n",
    "### Conclusion & Improvements:\n",
    "1. We are still getting incorrect tweet classifications due to limited amount of training data given to the classification model. Example of this is the wrong classification of feminism realted inappropriate tweet in the Tweet_classification notebook. As the training data does not contain many tweets with such inappropriate language regarding feminism, it is impossible for the model to classify tweets with similar language as inappropriate. To solve this issue we need to increase our training data size to incorporate all different types of hate / inappropriate tweets.\n",
    "\n",
    "2. The tweet classification data is disproportionate as we have only 2242 tweets classified as hatred/ inappropriate tweet and about 29720 tweets classified as normal tweets. This causes an issue for machine learning classification algorithms which  classify tweet labels based on labels of closest n tweets. Hence, in order to deal with such data we can increase the data points(tweets) of the minority label by creating copies of the minority tweets enough number of times to make tweets with both the labels have equal representation."
   ]
  }
 ],
 "metadata": {
  "kernelspec": {
   "display_name": "Python 3 (ipykernel)",
   "language": "python",
   "name": "python3"
  },
  "language_info": {
   "codemirror_mode": {
    "name": "ipython",
    "version": 3
   },
   "file_extension": ".py",
   "mimetype": "text/x-python",
   "name": "python",
   "nbconvert_exporter": "python",
   "pygments_lexer": "ipython3",
   "version": "3.9.7"
  }
 },
 "nbformat": 4,
 "nbformat_minor": 5
}
